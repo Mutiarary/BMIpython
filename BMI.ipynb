{
 "cells": [
  {
   "cell_type": "code",
   "execution_count": null,
   "metadata": {},
   "outputs": [],
   "source": [
    "tb = float(input(\"Masukan Tinggi Badan Anda: \"))\n",
    "bb = float(input(\"Masukan Berat Badan Anda: \"))\n",
    "\n",
    "\n",
    "bmi = bb/(tb**2) \n",
    "\n",
    "print(\"BMI kamu adalah: {0} dan kamu: \".format(bmi), end='')\n",
    "\n",
    "if ( bmi < 16):\n",
    "   print(\"Sangat Kurus\")\n",
    "\n",
    "elif ( bmi >= 16 and bmi < 18.5):\n",
    "   print(\"Kurus\")\n",
    "\n",
    "elif ( bmi >= 18.5 and bmi < 25):\n",
    "   print(\"Ideal\")\n",
    "\n",
    "elif ( bmi >= 25 and bmi < 30):\n",
    "   print(\"Gemuk\")\n",
    "\n",
    "elif ( bmi >=30):\n",
    "   print(\"Obesitas\")"
   ]
  },
  {
   "cell_type": "code",
   "execution_count": null,
   "metadata": {},
   "outputs": [],
   "source": []
  }
 ],
 "metadata": {
  "kernelspec": {
   "display_name": "Python 3",
   "language": "python",
   "name": "python3"
  },
  "language_info": {
   "codemirror_mode": {
    "name": "ipython",
    "version": 3
   },
   "file_extension": ".py",
   "mimetype": "text/x-python",
   "name": "python",
   "nbconvert_exporter": "python",
   "pygments_lexer": "ipython3",
   "version": "3.7.3"
  }
 },
 "nbformat": 4,
 "nbformat_minor": 2
}
